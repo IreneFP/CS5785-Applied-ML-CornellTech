{
 "cells": [
  {
   "cell_type": "code",
   "execution_count": 1,
   "metadata": {},
   "outputs": [],
   "source": [
    "import json\n",
    "import numpy as np"
   ]
  },
  {
   "cell_type": "code",
   "execution_count": 2,
   "metadata": {},
   "outputs": [],
   "source": [
    "with open('whats-cooking/train.json') as json_file:\n",
    "    data = json.load(json_file)"
   ]
  },
  {
   "cell_type": "code",
   "execution_count": 3,
   "metadata": {},
   "outputs": [],
   "source": [
    "with open('whats-cooking/test.json') as json_file:\n",
    "    data_test = json.load(json_file)"
   ]
  },
  {
   "cell_type": "markdown",
   "metadata": {},
   "source": [
    "## Information about the data"
   ]
  },
  {
   "cell_type": "code",
   "execution_count": 5,
   "metadata": {},
   "outputs": [
    {
     "data": {
      "text/plain": [
       "39774"
      ]
     },
     "execution_count": 5,
     "metadata": {},
     "output_type": "execute_result"
    }
   ],
   "source": [
    "## NUMBER OF DISHES\n",
    "len(data)"
   ]
  },
  {
   "cell_type": "code",
   "execution_count": 4,
   "metadata": {},
   "outputs": [
    {
     "name": "stdout",
     "output_type": "stream",
     "text": [
      "['brazilian' 'british' 'cajun_creole' 'chinese' 'filipino' 'french'\n",
      " 'greek' 'indian' 'irish' 'italian' 'jamaican' 'japanese' 'korean'\n",
      " 'mexican' 'moroccan' 'russian' 'southern_us' 'spanish' 'thai'\n",
      " 'vietnamese']\n"
     ]
    },
    {
     "data": {
      "text/plain": [
       "20"
      ]
     },
     "execution_count": 4,
     "metadata": {},
     "output_type": "execute_result"
    }
   ],
   "source": [
    "## AMOUNT OF CUISINE\n",
    "\n",
    "cuisine = []\n",
    "for i in range(len(data)):\n",
    "     cuisine.append(data[i][\"cuisine\"])\n",
    "\n",
    "unique_cuisine = np.unique(cuisine)\n",
    "print(unique_cuisine)\n",
    "len(unique_cuisine)"
   ]
  },
  {
   "cell_type": "code",
   "execution_count": 5,
   "metadata": {},
   "outputs": [
    {
     "name": "stdout",
     "output_type": "stream",
     "text": [
      "['(    oz.) tomato sauce' '(   oz.) tomato paste'\n",
      " '(10 oz.) frozen chopped spinach' ... 'ziti' 'zucchini'\n",
      " 'zucchini blossoms']\n"
     ]
    },
    {
     "data": {
      "text/plain": [
       "6714"
      ]
     },
     "execution_count": 5,
     "metadata": {},
     "output_type": "execute_result"
    }
   ],
   "source": [
    "ingredients = []\n",
    "for i in range(len(data)):\n",
    "     ingredients.extend(data[i][\"ingredients\"])\n",
    "\n",
    "unique_ingredients = np.unique(ingredients)\n",
    "print(unique_ingredients)\n",
    "len(unique_ingredients)"
   ]
  },
  {
   "cell_type": "markdown",
   "metadata": {},
   "source": [
    "## Binary ingredients feature vector"
   ]
  },
  {
   "cell_type": "code",
   "execution_count": 6,
   "metadata": {},
   "outputs": [],
   "source": [
    "ingredients = set()\n",
    "for meal in data:\n",
    "    ingredients = ingredients.union(set(meal[\"ingredients\"]))\n",
    "\n",
    "ingredients = list(ingredients)\n",
    "ingredientIndex = {ingredient:index for index, ingredient in enumerate(ingredients)}"
   ]
  },
  {
   "cell_type": "code",
   "execution_count": 7,
   "metadata": {},
   "outputs": [],
   "source": [
    "foodMatrix = np.zeros((len(data),len(ingredients)))"
   ]
  },
  {
   "cell_type": "code",
   "execution_count": 8,
   "metadata": {},
   "outputs": [],
   "source": [
    "for index, meal in enumerate(data):\n",
    "    for uniqueI in meal[\"ingredients\"]:\n",
    "        ingIndex = ingredientIndex[uniqueI]\n",
    "        foodMatrix[index][ingIndex] = 1"
   ]
  },
  {
   "cell_type": "markdown",
   "metadata": {},
   "source": [
    "##### Test Food Matrix"
   ]
  },
  {
   "cell_type": "code",
   "execution_count": 9,
   "metadata": {},
   "outputs": [],
   "source": [
    "foodMatrix_test = np.zeros((len(data_test),len(ingredients)))\n",
    "\n",
    "for index, meal in enumerate(data_test):\n",
    "    for uniqueI in meal[\"ingredients\"]:\n",
    "        if uniqueI in ingredientIndex:\n",
    "            ingIndex = ingredientIndex[uniqueI]\n",
    "            foodMatrix_test[index][ingIndex] = 1"
   ]
  },
  {
   "cell_type": "markdown",
   "metadata": {},
   "source": [
    "## Naive Bayes Classifier"
   ]
  },
  {
   "cell_type": "code",
   "execution_count": 52,
   "metadata": {},
   "outputs": [],
   "source": [
    "from sklearn.naive_bayes import GaussianNB\n",
    "from sklearn.naive_bayes import BernoulliNB"
   ]
  },
  {
   "cell_type": "code",
   "execution_count": 53,
   "metadata": {},
   "outputs": [],
   "source": [
    "from sklearn.model_selection import KFold"
   ]
  },
  {
   "cell_type": "code",
   "execution_count": 54,
   "metadata": {},
   "outputs": [],
   "source": [
    "gnb = GaussianNB()\n",
    "bnb = BernoulliNB()"
   ]
  },
  {
   "cell_type": "code",
   "execution_count": 55,
   "metadata": {},
   "outputs": [],
   "source": [
    "kf = KFold (n_splits = 3)"
   ]
  },
  {
   "cell_type": "code",
   "execution_count": 56,
   "metadata": {},
   "outputs": [
    {
     "name": "stdout",
     "output_type": "stream",
     "text": [
      "TRAIN: [13258 13259 13260 ... 39771 39772 39773] TEST: [    0     1     2 ... 13255 13256 13257]\n",
      "TRAIN: [    0     1     2 ... 39771 39772 39773] TEST: [13258 13259 13260 ... 26513 26514 26515]\n",
      "TRAIN: [    0     1     2 ... 26513 26514 26515] TEST: [26516 26517 26518 ... 39771 39772 39773]\n"
     ]
    }
   ],
   "source": [
    "#GaussianNB\n",
    "accuracy_gnb = []\n",
    "for train_index, test_index in kf.split(foodMatrix):\n",
    "    print(\"TRAIN:\", train_index, \"TEST:\", test_index)\n",
    "    X_train, X_test = foodMatrix[train_index], foodMatrix[test_index]\n",
    "    y_train, y_test = np.array(cuisine)[train_index], np.array(cuisine)[test_index]\n",
    "    \n",
    "    accuracy_gnb.append(gnb.fit(X_train,y_train).score(X_test,y_test))"
   ]
  },
  {
   "cell_type": "code",
   "execution_count": 57,
   "metadata": {},
   "outputs": [
    {
     "data": {
      "text/plain": [
       "[0.37901644290239855, 0.3829386031075577, 0.37758334590435966]"
      ]
     },
     "execution_count": 57,
     "metadata": {},
     "output_type": "execute_result"
    }
   ],
   "source": [
    "accuracy_gnb"
   ]
  },
  {
   "cell_type": "code",
   "execution_count": 58,
   "metadata": {},
   "outputs": [
    {
     "name": "stdout",
     "output_type": "stream",
     "text": [
      "TRAIN: [13258 13259 13260 ... 39771 39772 39773] TEST: [    0     1     2 ... 13255 13256 13257]\n",
      "TRAIN: [    0     1     2 ... 39771 39772 39773] TEST: [13258 13259 13260 ... 26513 26514 26515]\n",
      "TRAIN: [    0     1     2 ... 26513 26514 26515] TEST: [26516 26517 26518 ... 39771 39772 39773]\n"
     ]
    }
   ],
   "source": [
    "#BernoulliNB\n",
    "accuracy_bnb = []\n",
    "for train_index, test_index in kf.split(foodMatrix):\n",
    "    print(\"TRAIN:\", train_index, \"TEST:\", test_index)\n",
    "    X_train, X_test = foodMatrix[train_index], foodMatrix[test_index]\n",
    "    y_train, y_test = np.array(cuisine)[train_index], np.array(cuisine)[test_index]\n",
    "    \n",
    "    accuracy_bnb.append(bnb.fit(X_train,y_train).score(X_test,y_test))"
   ]
  },
  {
   "cell_type": "code",
   "execution_count": 59,
   "metadata": {},
   "outputs": [
    {
     "data": {
      "text/plain": [
       "[0.684190677326897, 0.6795142555438226, 0.6869060190073918]"
      ]
     },
     "execution_count": 59,
     "metadata": {},
     "output_type": "execute_result"
    }
   ],
   "source": [
    "accuracy_bnb"
   ]
  },
  {
   "cell_type": "markdown",
   "metadata": {},
   "source": [
    "## Logistic Regression"
   ]
  },
  {
   "cell_type": "code",
   "execution_count": 60,
   "metadata": {},
   "outputs": [],
   "source": [
    "from sklearn.linear_model import LogisticRegression"
   ]
  },
  {
   "cell_type": "code",
   "execution_count": 61,
   "metadata": {},
   "outputs": [],
   "source": [
    "clf = LogisticRegression(random_state=0, solver='saga', multi_class='multinomial')"
   ]
  },
  {
   "cell_type": "code",
   "execution_count": 62,
   "metadata": {},
   "outputs": [],
   "source": [
    "kf = KFold (n_splits = 3)"
   ]
  },
  {
   "cell_type": "code",
   "execution_count": 63,
   "metadata": {},
   "outputs": [
    {
     "name": "stdout",
     "output_type": "stream",
     "text": [
      "TRAIN: [13258 13259 13260 ... 39771 39772 39773] TEST: [    0     1     2 ... 13255 13256 13257]\n"
     ]
    },
    {
     "name": "stderr",
     "output_type": "stream",
     "text": [
      "/Library/Frameworks/Python.framework/Versions/3.6/lib/python3.6/site-packages/sklearn/linear_model/sag.py:334: ConvergenceWarning: The max_iter was reached which means the coef_ did not converge\n",
      "  \"the coef_ did not converge\", ConvergenceWarning)\n"
     ]
    },
    {
     "name": "stdout",
     "output_type": "stream",
     "text": [
      "TRAIN: [    0     1     2 ... 39771 39772 39773] TEST: [13258 13259 13260 ... 26513 26514 26515]\n"
     ]
    },
    {
     "name": "stderr",
     "output_type": "stream",
     "text": [
      "/Library/Frameworks/Python.framework/Versions/3.6/lib/python3.6/site-packages/sklearn/linear_model/sag.py:334: ConvergenceWarning: The max_iter was reached which means the coef_ did not converge\n",
      "  \"the coef_ did not converge\", ConvergenceWarning)\n"
     ]
    },
    {
     "name": "stdout",
     "output_type": "stream",
     "text": [
      "TRAIN: [    0     1     2 ... 26513 26514 26515] TEST: [26516 26517 26518 ... 39771 39772 39773]\n"
     ]
    },
    {
     "name": "stderr",
     "output_type": "stream",
     "text": [
      "/Library/Frameworks/Python.framework/Versions/3.6/lib/python3.6/site-packages/sklearn/linear_model/sag.py:334: ConvergenceWarning: The max_iter was reached which means the coef_ did not converge\n",
      "  \"the coef_ did not converge\", ConvergenceWarning)\n"
     ]
    }
   ],
   "source": [
    "accuracy_logreg = []\n",
    "for train_index, test_index in kf.split(foodMatrix):\n",
    "    print(\"TRAIN:\", train_index, \"TEST:\", test_index)\n",
    "    X_train, X_test = foodMatrix[train_index], foodMatrix[test_index]\n",
    "    y_train, y_test = np.array(cuisine)[train_index], np.array(cuisine)[test_index]\n",
    "    \n",
    "    accuracy_logreg.append(clf.fit(X_train,y_train).score(X_test,y_test))"
   ]
  },
  {
   "cell_type": "code",
   "execution_count": 64,
   "metadata": {},
   "outputs": [
    {
     "data": {
      "text/plain": [
       "[0.7723638557851863, 0.7705536279981898, 0.7762860159903454]"
      ]
     },
     "execution_count": 64,
     "metadata": {},
     "output_type": "execute_result"
    }
   ],
   "source": [
    "accuracy_logreg"
   ]
  },
  {
   "cell_type": "markdown",
   "metadata": {},
   "source": [
    "## Predictions Test data"
   ]
  },
  {
   "cell_type": "code",
   "execution_count": 14,
   "metadata": {},
   "outputs": [
    {
     "name": "stderr",
     "output_type": "stream",
     "text": [
      "/Library/Frameworks/Python.framework/Versions/3.6/lib/python3.6/site-packages/sklearn/linear_model/sag.py:334: ConvergenceWarning: The max_iter was reached which means the coef_ did not converge\n",
      "  \"the coef_ did not converge\", ConvergenceWarning)\n"
     ]
    }
   ],
   "source": [
    "clf = LogisticRegression(random_state=0, solver='saga', multi_class='multinomial').fit(foodMatrix, np.array(cuisine))"
   ]
  },
  {
   "cell_type": "code",
   "execution_count": 15,
   "metadata": {},
   "outputs": [],
   "source": [
    "predictions = clf.predict(foodMatrix_test)"
   ]
  },
  {
   "cell_type": "code",
   "execution_count": 16,
   "metadata": {},
   "outputs": [
    {
     "data": {
      "text/plain": [
       "array(['british', 'southern_us', 'italian', ..., 'italian', 'southern_us',\n",
       "       'mexican'], dtype='<U12')"
      ]
     },
     "execution_count": 16,
     "metadata": {},
     "output_type": "execute_result"
    }
   ],
   "source": [
    "predictions"
   ]
  },
  {
   "cell_type": "markdown",
   "metadata": {},
   "source": [
    "## Export CSV"
   ]
  },
  {
   "cell_type": "code",
   "execution_count": 44,
   "metadata": {},
   "outputs": [],
   "source": [
    "ids = [data_test[i][\"id\"] for i in range(len(data_test))]"
   ]
  },
  {
   "cell_type": "code",
   "execution_count": 51,
   "metadata": {},
   "outputs": [],
   "source": [
    "import csv\n",
    "\n",
    "with open('cuisine.csv', 'w') as csvfile:\n",
    "    headers = ['id', 'cuisine']\n",
    "    writer = csv.DictWriter(csvfile, fieldnames=headers)\n",
    "\n",
    "    writer.writeheader()\n",
    "    for ids, i in zip(ids, predictions):\n",
    "        writer.writerow({headers[0]: ids, headers[1]: i})\n",
    "        "
   ]
  },
  {
   "cell_type": "code",
   "execution_count": null,
   "metadata": {},
   "outputs": [],
   "source": []
  }
 ],
 "metadata": {
  "kernelspec": {
   "display_name": "Python 3",
   "language": "python",
   "name": "python3"
  },
  "language_info": {
   "codemirror_mode": {
    "name": "ipython",
    "version": 3
   },
   "file_extension": ".py",
   "mimetype": "text/x-python",
   "name": "python",
   "nbconvert_exporter": "python",
   "pygments_lexer": "ipython3",
   "version": "3.6.5"
  }
 },
 "nbformat": 4,
 "nbformat_minor": 2
}
